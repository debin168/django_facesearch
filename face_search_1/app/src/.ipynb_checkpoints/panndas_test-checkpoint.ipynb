{
 "cells": [
  {
   "cell_type": "code",
   "execution_count": 3,
   "metadata": {},
   "outputs": [
    {
     "name": "stdout",
     "output_type": "stream",
     "text": [
      "          0         1         2        3         4         5         6  \\\n",
      "0  1.086662  0.698372  1.199199  1.32548 -0.363931 -1.294222 -1.959806   \n",
      "\n",
      "          7         8         9   ...          119       120       121  \\\n",
      "0 -1.874472 -0.411205  0.419144   ...     0.188628  0.149165 -0.502452   \n",
      "\n",
      "       122       123       124       125      126       127  keyword  \n",
      "0 -1.11733 -0.485299 -0.747949  0.559123 -0.94741 -2.125856     test  \n",
      "\n",
      "[1 rows x 129 columns]\n",
      "data_info\n",
      "   Unnamed: 0         0         1         2        3         4         5  \\\n",
      "0           0  1.086662  0.698372  1.199199  1.32548 -0.363931 -1.294222   \n",
      "\n",
      "          6         7         8   ...          119       120       121  \\\n",
      "0 -1.959806 -1.874472 -0.411205   ...     0.188628  0.149165 -0.502452   \n",
      "\n",
      "       122       123       124       125      126       127  keyword  \n",
      "0 -1.11733 -0.485299 -0.747949  0.559123 -0.94741 -2.125856     test  \n",
      "\n",
      "[1 rows x 130 columns]\n"
     ]
    },
    {
     "ename": "NameError",
     "evalue": "name 'res2' is not defined",
     "output_type": "error",
     "traceback": [
      "\u001b[1;31m---------------------------------------------------------------------------\u001b[0m",
      "\u001b[1;31mNameError\u001b[0m                                 Traceback (most recent call last)",
      "\u001b[1;32m<ipython-input-3-612979fae5b6>\u001b[0m in \u001b[0;36m<module>\u001b[1;34m()\u001b[0m\n\u001b[0;32m     17\u001b[0m \u001b[0mprint\u001b[0m\u001b[1;33m(\u001b[0m\u001b[1;34m'data_info'\u001b[0m\u001b[1;33m)\u001b[0m\u001b[1;33m\u001b[0m\u001b[0m\n\u001b[0;32m     18\u001b[0m \u001b[0mprint\u001b[0m\u001b[1;33m(\u001b[0m\u001b[0mdata_info\u001b[0m\u001b[1;33m)\u001b[0m\u001b[1;33m\u001b[0m\u001b[0m\n\u001b[1;32m---> 19\u001b[1;33m \u001b[0mdata_info\u001b[0m\u001b[1;33m.\u001b[0m\u001b[0mappend\u001b[0m\u001b[1;33m(\u001b[0m\u001b[0mres2\u001b[0m\u001b[1;33m)\u001b[0m\u001b[1;33m\u001b[0m\u001b[0m\n\u001b[0m\u001b[0;32m     20\u001b[0m \u001b[1;33m\u001b[0m\u001b[0m\n\u001b[0;32m     21\u001b[0m \u001b[0mprint\u001b[0m\u001b[1;33m(\u001b[0m\u001b[0mdata_info\u001b[0m\u001b[1;33m)\u001b[0m\u001b[1;33m\u001b[0m\u001b[0m\n",
      "\u001b[1;31mNameError\u001b[0m: name 'res2' is not defined"
     ]
    }
   ],
   "source": [
    "import pandas as pd\n",
    "import numpy as np\n",
    "\n",
    "data1=pd.DataFrame(np.random.randn(1,128))\n",
    "data2=pd.DataFrame(['test'],columns=[\"keyword\"])\n",
    "res=pd.concat([data1,data2],axis=1)\n",
    "\n",
    "data3=pd.DataFrame(np.random.randn(1,128))\n",
    "data4=pd.DataFrame(['test2'],columns=[\"keyword\"])\n",
    "#ress=pd.concat([data3,data4],axis=1)\n",
    "\n",
    "print(res)\n",
    "res.append(res)\n",
    "res.to_csv('data1.csv')\n",
    "\n",
    "data_info=pd.read_csv('data1.csv')\n",
    "print('data_info')\n",
    "print(data_info)\n",
    "data_info.append(res2)\n",
    "\n",
    "print(data_info)\n",
    "data_info.to_csv('data1.csv')\n",
    "  \n",
    "columns= data_info.iloc[0:,0:5]\n",
    "print('columns')\n",
    "print(columns)\n",
    "\n",
    "arr=np.array(columns)\n",
    "print(arr)\n",
    "\n"
   ]
  },
  {
   "cell_type": "code",
   "execution_count": 10,
   "metadata": {},
   "outputs": [
    {
     "name": "stdout",
     "output_type": "stream",
     "text": [
      "         0         1         2         3         4      5\n",
      "0  0.00000  1.000000  2.000000  3.000000  4.000000      5\n",
      "1  0.12951 -0.297169  0.562703  0.581894  0.560206   test\n",
      "0  1.47759 -0.211290  0.611100 -0.287762 -0.573065  test2\n",
      "       0.0       1.0       2.0       3.0       4.0      5\n",
      "0  0.12951 -0.297169  0.562703  0.581894  0.560206   test\n",
      "1  1.47759 -0.211290  0.611100 -0.287762 -0.573065  test2\n",
      "col\n",
      "       0.0       1.0       2.0       3.0       4.0      5\n",
      "0  0.12951 -0.297169  0.562703  0.581894  0.560206   test\n",
      "1  1.47759 -0.211290  0.611100 -0.287762 -0.573065  test2\n"
     ]
    }
   ],
   "source": [
    "import pandas as pd\n",
    "import numpy as np\n",
    "from pandas  import Series\n",
    "import os\n",
    "\n",
    "\n",
    "\n",
    "data1=pd.DataFrame(np.random.randn(1,5))\n",
    "data2=pd.DataFrame(['test'],columns=[\"keyword\"])\n",
    "res=pd.concat([data1,data2],axis=1, ignore_index=True)    #合并两个DF\n",
    "res.to_csv('data1.csv',index=False)  #保存进CSV\n",
    "\n",
    "data_info=pd.read_csv('data1.csv',header=None)   #读出ＣＳＶ数据到data_info\n",
    "data3=pd.DataFrame(np.random.randn(1,5))          \n",
    "data4=pd.DataFrame(['test2'],columns=[\"keyword\"]) \n",
    "\n",
    "res2=pd.concat([data3,data4],axis=1, ignore_index=True)     #合并两个DF\n",
    "data_info=data_info.append(res2)  \n",
    "\n",
    "print(data_info)\n",
    "data_info.to_csv('data1.csv',index=False,header=None)\n",
    "\n",
    "\n",
    "data_info2=pd.read_csv('data1.csv')\n",
    "print(data_info2)\n",
    "columns= data_info2.iloc[0:,0:6]\n",
    "print('col')\n",
    "print(columns)"
   ]
  },
  {
   "cell_type": "code",
   "execution_count": null,
   "metadata": {
    "collapsed": true
   },
   "outputs": [],
   "source": []
  }
 ],
 "metadata": {
  "kernelspec": {
   "display_name": "Python 3",
   "language": "python",
   "name": "python3"
  },
  "language_info": {
   "codemirror_mode": {
    "name": "ipython",
    "version": 3
   },
   "file_extension": ".py",
   "mimetype": "text/x-python",
   "name": "python",
   "nbconvert_exporter": "python",
   "pygments_lexer": "ipython3",
   "version": "3.6.2"
  }
 },
 "nbformat": 4,
 "nbformat_minor": 2
}
